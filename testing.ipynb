{
 "cells": [
  {
   "cell_type": "markdown",
   "metadata": {},
   "source": [
    "# Approach 1 :- MASKING"
   ]
  },
  {
   "cell_type": "code",
   "execution_count": 4,
   "metadata": {},
   "outputs": [
    {
     "data": {
      "text/plain": [
       "True"
      ]
     },
     "execution_count": 4,
     "metadata": {},
     "output_type": "execute_result"
    }
   ],
   "source": [
    "import cv2\n",
    "\n",
    "# load images\n",
    "image1 = cv2.imread(\"input1.png\")\n",
    "image2 = cv2.imread(\"input2.png\")\n",
    "\n",
    "# compute difference\n",
    "difference = cv2.subtract(image1, image2)\n",
    "\n",
    "# color the mask red\n",
    "Conv_hsv_Gray = cv2.cvtColor(difference, cv2.COLOR_BGR2GRAY)\n",
    "ret, mask = cv2.threshold(Conv_hsv_Gray, 0, 255,cv2.THRESH_BINARY_INV |cv2.THRESH_OTSU)\n",
    "difference[mask != 255] = [0, 0, 255]\n",
    "\n",
    "# add the red mask to the images to make the differences obvious\n",
    "image1[mask != 255] = [0, 0, 255]\n",
    "image2[mask != 255] = [0, 0, 255]\n",
    "\n",
    "# store images\n",
    "cv2.imwrite('diffOverImage1.png', image1)\n",
    "cv2.imwrite('diffOverImage2.png', image1)\n",
    "cv2.imwrite('diff.png', difference)"
   ]
  },
  {
   "cell_type": "markdown",
   "metadata": {},
   "source": [
    "# Approach 2:- Structural Similarity Index (SSIM)\n",
    "#### Disadvantage:- Both file must be same size."
   ]
  },
  {
   "cell_type": "code",
   "execution_count": 14,
   "metadata": {},
   "outputs": [
    {
     "name": "stdout",
     "output_type": "stream",
     "text": [
      "Image Similarity: 93.8810%\n"
     ]
    },
    {
     "data": {
      "text/plain": [
       "-1"
      ]
     },
     "execution_count": 14,
     "metadata": {},
     "output_type": "execute_result"
    }
   ],
   "source": [
    "from skimage.metrics import structural_similarity\n",
    "import cv2\n",
    "import numpy as np\n",
    "\n",
    "# Load images\n",
    "before = cv2.imread(\"input1.png\")\n",
    "after = cv2.imread(\"input2.png\")\n",
    "\n",
    "# Convert images to grayscale\n",
    "before_gray = cv2.cvtColor(before, cv2.COLOR_BGR2GRAY)\n",
    "after_gray = cv2.cvtColor(after, cv2.COLOR_BGR2GRAY)\n",
    "\n",
    "# Compute SSIM between the two images\n",
    "(score, diff) = structural_similarity(before_gray, after_gray, full=True)\n",
    "print(\"Image Similarity: {:.4f}%\".format(score * 100))\n",
    "\n",
    "# The diff image contains the actual image differences between the two images\n",
    "# and is represented as a floating point data type in the range [0,1] \n",
    "# so we must convert the array to 8-bit unsigned integers in the range\n",
    "# [0,255] before we can use it with OpenCV\n",
    "diff = (diff * 255).astype(\"uint8\")\n",
    "diff_box = cv2.merge([diff, diff, diff])\n",
    "\n",
    "# Threshold the difference image, followed by finding contours to\n",
    "# obtain the regions of the two input images that differ\n",
    "thresh = cv2.threshold(diff, 0, 255, cv2.THRESH_BINARY_INV | cv2.THRESH_OTSU)[1]\n",
    "contours = cv2.findContours(thresh, cv2.RETR_EXTERNAL, cv2.CHAIN_APPROX_SIMPLE)\n",
    "contours = contours[0] if len(contours) == 2 else contours[1]\n",
    "\n",
    "mask = np.zeros(before.shape, dtype='uint8')\n",
    "filled_after = after.copy()\n",
    "\n",
    "for c in contours:\n",
    "    area = cv2.contourArea(c)\n",
    "    if area > 40:\n",
    "        x,y,w,h = cv2.boundingRect(c)\n",
    "        cv2.rectangle(before, (x, y), (x + w, y + h), (36,255,12), 2)\n",
    "        cv2.rectangle(after, (x, y), (x + w, y + h), (36,255,12), 2)\n",
    "        cv2.rectangle(diff_box, (x, y), (x + w, y + h), (36,255,12), 2)\n",
    "        cv2.drawContours(mask, [c], 0, (255,255,255), -1)\n",
    "        cv2.drawContours(filled_after, [c], 0, (0,255,0), -1)\n",
    "\n",
    "cv2.imshow('before', before)\n",
    "cv2.imshow('after', after)\n",
    "cv2.imshow('diff', diff)\n",
    "cv2.imshow('diff_box', diff_box)\n",
    "cv2.imshow('mask', mask)\n",
    "cv2.imshow('filled after', filled_after)\n",
    "cv2.waitKey()"
   ]
  },
  {
   "cell_type": "markdown",
   "metadata": {},
   "source": [
    "# Approach3:- cv2.absdiff\n",
    "### Disadvantage:- Not calculate similarity Score"
   ]
  },
  {
   "cell_type": "code",
   "execution_count": 2,
   "metadata": {},
   "outputs": [
    {
     "data": {
      "text/plain": [
       "-1"
      ]
     },
     "execution_count": 2,
     "metadata": {},
     "output_type": "execute_result"
    }
   ],
   "source": [
    "import cv2\n",
    "\n",
    "# Load images as grayscale\n",
    "image1 = cv2.imread(\"input1.png\", 0)\n",
    "image2 = cv2.imread(\"input2.png\", 0)\n",
    "\n",
    "# Calculate the per-element absolute difference between \n",
    "# two arrays or between an array and a scalar\n",
    "diff = 255 - cv2.absdiff(image1, image2)\n",
    "\n",
    "cv2.imshow('diff', diff)\n",
    "cv2.waitKey()"
   ]
  },
  {
   "cell_type": "code",
   "execution_count": 6,
   "metadata": {},
   "outputs": [
    {
     "name": "stdout",
     "output_type": "stream",
     "text": [
      "Similarity Score: 94.76%\n"
     ]
    }
   ],
   "source": [
    "import cv2\n",
    "import numpy as np\n",
    "\n",
    "# Load the two input images\n",
    "image1 = cv2.imread(\"input1.png\")\n",
    "image2 = cv2.imread(\"input2.png\")\n",
    "\n",
    "# Convert images to grayscale\n",
    "gray1 = cv2.cvtColor(image1, cv2.COLOR_BGR2GRAY)\n",
    "gray2 = cv2.cvtColor(image2, cv2.COLOR_BGR2GRAY)\n",
    "\n",
    "# Compute absolute difference between the two images\n",
    "diff = cv2.absdiff(gray1, gray2)\n",
    "\n",
    "# Threshold the difference image\n",
    "_, threshold = cv2.threshold(diff, 30, 255, cv2.THRESH_BINARY)\n",
    "\n",
    "# Find contours of the thresholded image\n",
    "contours, _ = cv2.findContours(threshold, cv2.RETR_EXTERNAL, cv2.CHAIN_APPROX_SIMPLE)\n",
    "\n",
    "# Draw bounding boxes around the contours\n",
    "for contour in contours:\n",
    "    x, y, w, h = cv2.boundingRect(contour)\n",
    "    cv2.rectangle(image1, (x, y), (x + w, y + h), (0, 255, 0), 2)\n",
    "\n",
    "# Calculate similarity score (percentage of pixels that are different)\n",
    "total_pixels = np.prod(gray1.shape)\n",
    "different_pixels = np.count_nonzero(diff)\n",
    "similarity_score = (1 - (different_pixels / total_pixels)) * 100\n",
    "\n",
    "# Display the result\n",
    "cv2.imshow('Difference Image', diff)\n",
    "cv2.imshow('Threshold Image', threshold)\n",
    "cv2.imshow('Bounding Boxes', image1)\n",
    "print(f\"Similarity Score: {similarity_score:.2f}%\")\n",
    "\n",
    "cv2.waitKey(0)\n",
    "cv2.destroyAllWindows()\n"
   ]
  },
  {
   "cell_type": "code",
   "execution_count": 7,
   "metadata": {},
   "outputs": [
    {
     "name": "stdout",
     "output_type": "stream",
     "text": [
      "Similarity Score (MSE): 887.4431480995539\n"
     ]
    }
   ],
   "source": [
    "import cv2\n",
    "\n",
    "def detect_difference(image1, image2):\n",
    "  # Preprocessing\n",
    "  image1_gray = cv2.cvtColor(image1, cv2.COLOR_BGR2GRAY)\n",
    "  image2_gray = cv2.cvtColor(image2, cv2.COLOR_BGR2GRAY)\n",
    "\n",
    "  # Difference Image\n",
    "  diff_image = cv2.absdiff(image1_gray, image2_gray)\n",
    "\n",
    "  # Thresholding\n",
    "  thresh = cv2.threshold(diff_image, 20, 255, cv2.THRESH_BINARY)[1]\n",
    "\n",
    "  # Find Contours and Draw Bounding Boxes\n",
    "  contours, _ = cv2.findContours(thresh, cv2.RETR_EXTERNAL, cv2.CHAIN_APPROX_SIMPLE)\n",
    "  for cnt in contours:\n",
    "    x, y, w, h = cv2.boundingRect(cnt)\n",
    "    cv2.rectangle(image1, (x, y), (x+w, y+h), (0, 0, 255), 2)\n",
    "\n",
    "  return image1\n",
    "\n",
    "# Calculate Similarity Score (Mean Squared Error)\n",
    "def mse(image1, image2):\n",
    "  diff = image1.astype(\"float\") - image2.astype(\"float\")\n",
    "  squared_diff = diff ** 2\n",
    "  mse = squared_diff.mean()\n",
    "  return mse\n",
    "\n",
    "# Example Usage\n",
    "image1 = cv2.imread(\"input1.png\")\n",
    "image2 = cv2.imread(\"input2.png\")\n",
    "image_with_boxes = detect_difference(image1, image2)\n",
    "\n",
    "# Print Similarity Score\n",
    "similarity_score = mse(image1, image2)\n",
    "print(f\"Similarity Score (MSE): {similarity_score}\")\n",
    "\n",
    "# Display Image with Bounding Boxes\n",
    "cv2.imshow(\"Image with Bounding Boxes\", image_with_boxes)\n",
    "cv2.waitKey(0)\n",
    "cv2.destroyAllWindows()"
   ]
  },
  {
   "cell_type": "markdown",
   "metadata": {},
   "source": [
    "# Approach3:- Animated using flicker_cmp"
   ]
  },
  {
   "cell_type": "code",
   "execution_count": null,
   "metadata": {},
   "outputs": [],
   "source": []
  },
  {
   "cell_type": "code",
   "execution_count": 10,
   "metadata": {},
   "outputs": [],
   "source": [
    "# flicker_cmp -o result.gif -r x400 a.jpg b.jpg\n",
    "from PIL import Image\n",
    "\n",
    "# Create a list of frames of the animation\n",
    "frames = []\n",
    "frames.append(Image.open('input1.png'))\n",
    "frames.append(Image.open('input2.png'))\n",
    "\n",
    "# Save result\n",
    "frames[0].save('anim.gif', save_all=True, append_images=frames[1:], duration=100, loop=0)"
   ]
  },
  {
   "cell_type": "code",
   "execution_count": 10,
   "metadata": {},
   "outputs": [],
   "source": [
    "\n",
    "#pixel wise comparision\n",
    "import cv2\n",
    "\n",
    "# Load the images\n",
    "image1 = cv2.imread('input1.png')\n",
    "image2 = cv2.imread('input2.png')\n",
    "\n",
    "# Compute the absolute difference between the images\n",
    "difference = cv2.absdiff(image1, image2)\n",
    "\n",
    "# Convert the difference image to grayscale\n",
    "gray = cv2.cvtColor(difference, cv2.COLOR_BGR2GRAY)\n",
    "\n",
    "# Threshold the grayscale image to get a binary mask of the differences\n",
    "_, threshold = cv2.threshold(gray, 30, 255, cv2.THRESH_BINARY)\n",
    "\n",
    "# Find contours in the thresholded image\n",
    "contours, _ = cv2.findContours(threshold, cv2.RETR_EXTERNAL, cv2.CHAIN_APPROX_SIMPLE)\n",
    "\n",
    "# Draw bounding boxes around the contours\n",
    "for contour in contours:\n",
    "    (x, y, w, h) = cv2.boundingRect(contour)\n",
    "    cv2.rectangle(image1, (x, y), (x + w, y + h), (0, 255, 0), 2)\n",
    "\n",
    "# Display the images\n",
    "cv2.imshow('Original Image', image1)\n",
    "cv2.imshow('Difference Image', difference)\n",
    "cv2.waitKey(0)\n",
    "cv2.destroyAllWindows()\n"
   ]
  },
  {
   "cell_type": "code",
   "execution_count": 13,
   "metadata": {},
   "outputs": [
    {
     "name": "stdout",
     "output_type": "stream",
     "text": [
      "Histogram Difference: 18066.291655547288\n"
     ]
    }
   ],
   "source": [
    "#histogram diffrence\n",
    "import cv2\n",
    "import numpy as np\n",
    "\n",
    "# Load the images\n",
    "image1 = cv2.imread('input1.png')\n",
    "image2 = cv2.imread('input2.png')\n",
    "\n",
    "# Calculate the histograms\n",
    "hist1 = cv2.calcHist([image1], [0, 1, 2], None, [256, 256, 256], [0, 256, 0, 256, 0, 256])\n",
    "hist2 = cv2.calcHist([image2], [0, 1, 2], None, [256, 256, 256], [0, 256, 0, 256, 0, 256])\n",
    "\n",
    "# Calculate the Chi-Squared distance\n",
    "difference = cv2.compareHist(hist1, hist2, cv2.HISTCMP_CHISQR)\n",
    "\n",
    "print(f\"Histogram Difference: {difference}\")\n"
   ]
  },
  {
   "cell_type": "code",
   "execution_count": 12,
   "metadata": {},
   "outputs": [],
   "source": [
    "#feature Based matching\n",
    "import cv2\n",
    "import numpy as np\n",
    "\n",
    "# Load the images\n",
    "image1 = cv2.imread('input1.png', 0)\n",
    "image2 = cv2.imread('input2.png', 0)\n",
    "\n",
    "# Initialize the ORB feature detector\n",
    "orb = cv2.ORB_create()\n",
    "\n",
    "# Find the keypoints and descriptors with ORB\n",
    "kp1, des1 = orb.detectAndCompute(image1, None)\n",
    "kp2, des2 = orb.detectAndCompute(image2, None)\n",
    "\n",
    "# Create a Brute Force Matcher\n",
    "bf = cv2.BFMatcher(cv2.NORM_HAMMING, crossCheck=True)\n",
    "\n",
    "# Match descriptors\n",
    "matches = bf.match(des1, des2)\n",
    "\n",
    "# Sort them in the order of their distance\n",
    "matches = sorted(matches, key=lambda x: x.distance)\n",
    "\n",
    "# Draw the first 10 matches\n",
    "result = cv2.drawMatches(image1, kp1, image2, kp2, matches[:10], None, flags=cv2.DrawMatchesFlags_NOT_DRAW_SINGLE_POINTS)\n",
    "\n",
    "# Display the matches\n",
    "cv2.imshow('Matches', result)\n",
    "cv2.waitKey(0)\n",
    "cv2.destroyAllWindows()\n"
   ]
  },
  {
   "cell_type": "code",
   "execution_count": 6,
   "metadata": {},
   "outputs": [
    {
     "data": {
      "text/plain": [
       "'f:\\\\picdiffbox\\\\Resources'"
      ]
     },
     "execution_count": 6,
     "metadata": {},
     "output_type": "execute_result"
    }
   ],
   "source": [
    "pwd\n"
   ]
  },
  {
   "cell_type": "code",
   "execution_count": null,
   "metadata": {},
   "outputs": [],
   "source": []
  }
 ],
 "metadata": {
  "kernelspec": {
   "display_name": "sdcar",
   "language": "python",
   "name": "python3"
  },
  "language_info": {
   "codemirror_mode": {
    "name": "ipython",
    "version": 3
   },
   "file_extension": ".py",
   "mimetype": "text/x-python",
   "name": "python",
   "nbconvert_exporter": "python",
   "pygments_lexer": "ipython3",
   "version": "3.10.14"
  }
 },
 "nbformat": 4,
 "nbformat_minor": 2
}
